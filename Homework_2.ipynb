{
 "cells": [
  {
   "cell_type": "markdown",
   "metadata": {},
   "source": [
    "# Python商务数据分析——课后作业2\n",
    "\n",
    "**姓名：张三&nbsp;&nbsp;&nbsp;&nbsp;&nbsp;学号：xxx**\n",
    ">练习主题：Python基础编程\n",
    ">练习目的：\n",
    ">- 函数定义与使用\n",
    "    * 掌握函数的定义和调用方法\n",
    "    * 掌握变量的作用域\n",
    ">- 文件操作\n",
    "    * 文件夹的操作\n",
    "    * 文件的读写操作\n",
    "<font color=\"red\">请发送至：<b>teaching\\_jin\\@126.com</b> ，邮件标题和附件标题均为：<b>Python商务数据分析_学号\\_姓名\\_课后作业2</b></font>"
   ]
  },
  {
   "cell_type": "markdown",
   "metadata": {},
   "source": [
    "### 1 编写函数，实现如下组合计算公式："
   ]
  },
  {
   "cell_type": "markdown",
   "metadata": {},
   "source": [
    "\n",
    "<img src=\"data:image/png;base64,iVBORw0KGgoAAAANSUhEUgAAAXwAAAB6CAYAAAC8yehjAAAAAXNSR0IArs4c6QAAAARnQU1BAACxjwv8YQUAAAAJcEhZcwAAGdYAABnWARjRyu0AAB8XSURBVHhe7d2HtyRF+cbx3/9kQlRAUVFMgCAqKAYUEFSCCSMGEBREMQuCooIiilkQTKCuIIIBswRzzjn273zKW5feYXrS3t2d7n6+5/RZuDPTM9PT9dSb6q3/a0IIIYyCCH4IIYyECH4IIYyECH4IIYyECH4IIYyECH4IIYyECH4IIYyECH4IIYyECH4IIYyECH4IIYyECH4IIYyECH4IIYyECH4IIYyECH4IIYyECH4IIYyECH4IIYyECH4IIYyECH4IIYyECH4IIYyECH4IofCf//yn+clPftJ87nOfa775zW82//73vzceCUMhgh/CmvCXv/ylCO0XvvCFcnzxi19srr322nJ85StfaX79619vPHM5fvvb3zZf/vKXN89Vj23btjVf+9rXynP++9//Nj//+c+bF73oRc3hhx/enHTSSeUzhGERwQ9hTfj2t7/dnHzyyc1jH/vYcjzucY/bPI477rjmU5/61MYzF+df//pXc/755zdPfvKTtzuf44gjjmhe8IIXlOex5q+55prmrne9a3OnO92pucc97tG89KUvLY+F4RDBD2FN+OlPf9pccsklzVve8pbmec97XnP/+9+/uctd7tLc+c53bu52t7s1F1xwQQm7LANL/rDDDtsUcuc65ZRTmje96U3NW9/61uZjH/tYeZ6J4ROf+ER5juPud79785znPKc8FoZDBD+ENYGY/+Mf/2j+/Oc/N5dffnnzyEc+stl///2be93rXkWEzznnnBL2WRShnGc/+9nFO2CxO4fz3Xzzzc2f/vSn5m9/+9vmBOLf6667blPw73nPezannXZaeSwMhwh+CGuG8Mpll11WLPMTTjihefCDH1xEWIhFnH0RxOTf8Y53lBCRsE2dNFjtf//73zeedTue/73vfW9T8Pfee+/m9a9//cajYShE8ENYM373u98VsT3mmGNKeOfRj350EeFnPvOZzfe///2NZ83m61//erHsP/OZzzRPecpTmj322KOcQ8hI+GYav/jFL0oIyfPuc5/7NO985zs3HglDIYIfwpoh5CIUo2Lm6quvbo4++ugiwkcddVSp1pmHkNCLX/zi5o1vfGOx2h/+8IeX2D0x/853vlOs+WmYaO5973uX97rf/e7XfOQjH9l4JAyFCH4Ia4ZE65FHHlmse4L9rGc9q4jwox71qFJJM48PfvCD5TVKPNXUP+ABDyivP/DAA4uod/H73/++Oeigg8pz99tvv4XeK/SLCH4Ia4Tk6Uc/+tHmMY95TEncitm/7GUvKyIs4Vqrarq45ZZbmuOPP75Y53/961+bc889t9lnn33K68XyZyV9//jHPzZPeMITNt9LWCgMiwh+CGsEK1vJpPj9t771rRKeUZ1DhCVexeC7+Oc//9mcffbZzVlnnVVWzArdEP8av3/f+95XntOF97LgynMf8pCHND/84Q83HglDIYIfwhrBQldZ88IXvrCUTrL43/a2t5U6enF4tfNdov3pT3+6ecYzntFcf/31JTH7y1/+snnEIx5RXuf14ve1DHMarP/qTRxwwAHF4g/DIoIfwhpBrK2KFb+vyVWWeU2msuB5AZOosBG3f/e7370p1OL3QjNeJ3H7m9/8pvy9C3X5qoNMECaKWZND6CcR/BDWBAIrbq+XzRVXXLHx16b898Me9rAi3FbJ/vjHP9545H943XnnnVesc2WbdaJ485vfvBm/V/HDY5iFRV8XXXRR8QYkjcPwiOCHsCaw3Fn2yjCFXyqamJkECLeFWHrutPnSl77UnHjiic1nP/vZ7cI94vdaMngdL2Hagqs2Xvvxj3+8xPzV/IfhEcEPYU249dZbm+c+97nN85///FJhU9HR0uIpwq2KRtinInzD6leN0+6mqbpHawavUX9vkpgXorHCV4dObRhOPfXUjb+GIRHBD2FNuOGGG5onPelJxcpvYyLQEoF4H3zwwcWSr7z3ve8t5ZZKKNsLqjyntmQ45JBDSox/Hl7/3e9+t1QDpa3CMIngh7AGsL51q7S4yr9tfvWrXxWLm3hbAatOH6x2VTlq7sXf2yjtrIleq27/8Ic/bDwyG57BvvvuW2L5YXhE8ENYA2r8XoWO1bVtxN5f+9rXFvEWk3/Pe95TKmrOPPPMUrWjrfIkT3/60zfj95deeml5/iJ4LytsF23SFvpFBD+ENUDYRv8cNfjTkqtq8fWoJ+Di9e9///tLGaaWxpOo4uEpeK74vRYL7XDPPJZ5bugXEfwV0e/koQ996GZ3QceDHvSgO9RIS4SxyAzWvfbaq7jZOhGqj37DG96w8awwdm688cayC5WGZ9Mg8DZEcZ897WlPK2WT73rXu7ZL7lauuuqqslLWcw899NDmZz/72cYj8yH2wkvzEryhn0TwV4QVZiBJtGlOZbGKAfaBD3zgDoPFoFRpwYIj9vqUq5eeNljD+LAqVjmkxVH+ncaVV15ZHnePMTJ4ArpqTuN1r3vdZvz+JS95ycyGaW2stJWsNVkoy0xrheERwd9BrGZkcSmBs2DFXqTTXHIxVHuLGoAhsKQJvWQr4baloXtIO2R/4xm2Qys8Sh4AEedZfvKTn9x8nIHhXOroGRHHHnvs5paGVt5K2Hp8ltXuMRude43Djlenn376xqNhKIxO8OtAI8CaRVl96DBQDLJJDD5H12BRDcEqUh4nZGOwGDiTeA9Wmda1Ydy4lyRaLYZijdtM3H0jyWqBlRWyhL8dHtRIjWEhNCjs037MIi2VOxdffHHZllAlTxVudf3i/97rtttu67yP3fsWeNVEbzYxHyajEXw3NNHlptr930AjwFYjqnH2/9u2bSv7gFbhZ6kbSNzsaW6xwfPUpz61WFsGoBppoR3nm5w8LIrRn0RzrDBuGBryOoTZITZfj/o3Cdl2tY4J4uUvf3n5+ze+8Y2Nv/7PgHnFK17RPPCBD9zuPO2jnlP55qxume5h40EvfO2ZeRVhWAxe8IkyoRdDf9WrXlV6krBeDAD/zaJiYdn4QdJVl8KbbrqprGA0QIi4mLtzTELEJcVUWBh4OhmywPbcc8/SnrbiM4j1q5zosrDCeHAPqK13T6qgYaETdwdL3iIqhknbaPAapZI6YLZDPbCoSlhIXsi/9b+dz7lNEM65SGmmCcF7TxYfhGEwaMF38xJj9c2qYqwgZGVbxGIlIsGug0eckzX/+Mc/vvQEf/WrX12SZGKZ2s5ODjJwuy18qUvaJXFZVFxiddMVIaELL7ywWGghhLC7GKzgC8doKiXuKS5J8Amu1YnTxLtC3FniterGf3/1q1/deHR7xFLFW9t9w61qVEWhcqf+XX6AKz5vt6IQQtiZDFLwua5267fbP/G1mYMd+Gdt71YhzmecccbmIhfVEz/4wQ82Hr0d7rbJRD6ABV+xyTRPwmuVaEIfct5CytxCCLuTwQk+8VUqWXf60UBKDH5WsmoSQq30zevF5af1IRE3VYIpXtr2GPy3BlgEXxmdCYSnYfKZ5VmEEMLOZlCCz+qWoKobMVt8otcI0V0GLWKJOUvdgpdpiVYeBOt/WhdCm1iog+ZdqPwxaaikCCGE3clgBJ/1rIKh7skpbq+H+LRwzDxUT1i6roJHiGYa2iJ0Wf/K7lQA8RAkdYV+JjsghhDCrmYwgi9Jq15eSSTBV5dssckqSNISfNvCTYu7W7ilG6EEbzt+38Zk4HMoAbVUfVpHwxBC2JUMQvBZ9wSVSBNZ4RRtZhfZ9GEaaqG1QLjsssuKtT6JSUDYyGYRXXF5dfj65rDyLWJJ/D6EsLsZhOBLyOoQWDtXit1bObsqyimJvsUxVajF8dXbW8yiFPOwww7b7Bs+uaq2wkMw+VjwFUIIu5tBCD6Bts0bsXeIn0uWbiVaK2hRq5Zfkyurcu09qkXtNC8A4v+qhNpb0m0lJjp9e1QV8Ua26tDvR6VTCGFYDELwhW5q/28hFK0StnppuFp6C6cIfD2Ue374wx/urAIS67/kkktKf56dgbyFzyA5ffTRRy99HHPMMZuHc9RDf6DsaRrC8Oi94Au16BdS28FK2uoQOAaEm+QKVBVJNC97eF099Fqph9JWuyaFEIZF7wVf/Fxb1xrOEb/XsnhVhElU3iTJujpCXJ///OeL95Ejx9APxlFf9KL3gi9sYhFUFXzNy8TaV8GPJnYtdCNhG1ZDEzlVTtZC5Mgx9INmTFucuY4MwsK3MrYKvqZl2hqvgioczc+sil1mH9CwPRajXXHFFaXjaI4cQz/scRELfxfhQiuVNNMSfH3u7T61ChZSSVqqelmm987uRIWSyUksf6sOaxqmrSBeFNaOBnY+W44cQz9EGfpC7wUfwi+HHHJIEfy99967zLrLQuS0ZbABis0juvBeF110Uel3r5LFoU1yu2a/i7oauL7OYUWu5mqrQFTtWar1sk2nt+qw2bq1BiGEYTEIwa+77RN81TpKDpexUM3Ski/KEYUiutolQNjH9nRnnnlmad9ggtFk7brrrutcgAWPqYbRNdOmKspIzzrrrObtb397qZhZBV6I/MW5555bNnnZquO8885L7/4QBsggBF8IwVZxBx544GYcXx+dReJqti602IjYE/1pe9e2Idxq/K+//vqyOYr3FE6aFwYyAdkUWstkvfZPPPHE4lV4v1kTzDy8VlWM77GVx458phDCejIIwYfwhuoc/WsIMEvaloWzhEtbBBa2Rmh29l+m946Ny21WTrg1SFMK2rVnqBgfi5lXYAtFpaPeN4QQdiWDEXzWPMv74osvLuESom+XKSKrbIo1zXJlUdvmkAegn7149Yc+9KHNfWkXRa8eoZTXvOY1Jayjb860HbV8Ls3W5AbE6vfZZ58SCtISIfQDIT8epPsn9A9jkDGnuKMvxRg7i8EIPvywQifi2qxvljQxltDVSbO2INDp8rjjjivxav1uunrhdCGEJARke0OhHF7FUUcdNVUQ3GCap9lIxefS+sFuXEQk7BrcF35jLS5m5VmmoaWGyV0hQEp1+4nfXwj2lFNOKX2iujzxLkQJGIRDCHMOSvArfhhWtdWeF154YXPaaacVa54Vfs4555T+N1oI+BGXFQAoXbSNoZYObiSLvWyJOJkodqNdffXVRfCJjcoe8fuTTz65PDZmfH+TocGnF1H78Pd518dzusrhvLa+3vMk1E866aTSM8jexosm9HmDfjOttpXsqrKah+fwNE3+7e/ke676mzMwnLd9PodJzPfrO133wSICa/zOul/q3411xQjGLdFf5LfEj370o7Iux+ssJuzTqtppDFLwK24GljR3TkiHhcZi25HBB5a9ycM53RBCNIR8MixEMOx4Zdctn4OXIaRDdMbOTTfdVDqc8rbkNdqHnMqslc5+P7uIPfGJTywDkddWG7/xtI4//vgyqOE30uFUiE/7bElzrTjm4T2E7CTllb4uEs5xn5kcvIej/Z14hNdee+3GMxeHMAk5+o7t89VD+WyfPQ95NF1np90Hxsusjf9N3GecccbmfeC3b98H/q1jzXh3Lsaf/Snk4BbRAIUcxjfPXHWdULDJqK8MWvB3FrY3PP/884slRxhqp04Wf/smEgrgTbDQDErlm/vtt1/ntoljwn4D8h8a3Qmv7bXXXuUaOoiz69Zl4RlwKp6IoJCdwUjMTaYGPoGvaxtuu+22Et6r5z744INL6e08bEl56KGHltyLcywiDjw/YQPvR3Dqezp8zlUmerke36nu9eDaaM9tvYQJU2HCVneG3ZUYF+4DHjjjqH0fOBRDGD/TMAl7/Nhjjy3jqt4HzmHCtWqeZ1ZhAJrsTSSMAkbHPEQE3Ff18xj3fc7lRPCXxM3X3t6QENjw3I0mRl9DRGruDUiJXH/zfDekRPK05O7YYLnytljFrK2aaHeNDCyC2RV68RvwAHhXxNvaC78Bkedy87Sqy+7/Dfw6YFVvzdufgAhJ5gvT+U0XXUkptOBz+U4+i+9ywAEHlPdVyWXdxTLYo5nR4Bz77rtvOQ9LmIfJMva4sE6XIPYB19Z94LsopmBNuw/q72XfiS6B9b2FSk20rsl973vfkh/z3+4Nv8WkNe56yd15LsNtXi5NGMhz6+fR7jwW/ohwI7Eo3JzV6rPSdY899igVQga9icCkYAtE+H9JP89h/S1iLY6JSy+9tGwUw8qTaDewhMiI5iwxM5GKz3uN1c91sm1DSAhtHbBCBdX670IIZ//9929OP/30lcMlJiLCJQfgff32rPJF8V2U8rom8g97buzVbDV4n0M4s9ATS2sUHpoJ0vdlSAlpzYPH6Dc7++yzOz1DGHvVa7Jr3byNfiyyNAnV+2fewsx1J4K/JKxR4YR2v3iC4gaVnHUziPtx36tYsei5mFxNG6eE7SFi4rCEmAdUrXzhESGzLljxhN5ANwFPQ7iDRVcHrMStEssuhG9OOOGEkohnKU6bRBbBZGEi8l7el3CJHS8KAXNdTBinnnpquSYmEOtF+tS7ZRlY0xZN3nzzzeVa1TDWvD2hjbnqJQrFzYPHwABjVFihPytEY9KtIVuHSWnVe2IdiOAviRvEoGuvyCXixJwFZ6ASjHapJxffzcU1VB0UbsdkSOyJW7XG5ToMLteUR9U12A1UFrAVz13VKs5vUqgDVuxWEr0L3oYwgqSwnMyqiLPLTZhwqrVq681FwnlCWRdccEGpChEK5C16vRDTIvmHvuK3MSEbW7ys6tWY6G644YaNZ90R10s/K9d8VpK34n4i5K6nPNCs1iY8gIMOOqh8DpOuCbzPHnoEfwnM7ISANdF26/y/xI74sHBP+wZi5XvczWLAL1oONhZcK4lUQis2akC1XWiVMl0Wrfit1xLGLrxWSKCeT0itqwKIGDsXy9LEvurWlF4nhEO0TfxVMHgiPIhZEBMi43PKNfAyeD1er+pEbmiIuGaukySp38FEydpv/25dyGcwslRCLZrPkLA1VuVGZoWM3J+S9z6DMT6rsWIfiOAvgZV6LAJbALZx87hxCIWKg7a1SXDU8db4fdgeraxZWiqXiJ0Bq1rD9TLIWNttb6niebwpi970QprFVVddtZkIVE7blXRzPhamJHCtrloFIu0cxJl4Oaf3VkkiJDAL3of7RUKRcSAvxDv0eqEdXtAQsWaGwPNoal29EGndutQ1UGI7jVtvvbVMFibpReFFyBUwxEwyXQUCzn344YeXz8Bg8/99JoI/BzeeQahag2stLst9vPHGGzetdVUGYr6qKfw3hBtYB6w0CUkCpmrH69rx/7EjlCOB1h5IBJOQG2QGpJbSk240UZBQI6JivrO45ppryoTsXGLrXQiX8BjEbAnQqhBsZZg+oxwEr8F38Rnq+oBpeK46b6FBnoBqI61BvNb9I5S46iS07siz8ICE8CquQQ3r+O1MgpO4xn5fY8x9syjuJzkD15WBwZibht9Aot9nUAnW/nx9JII/BxURqnDcjITAIeQwGS+04IZI1ISOGKQJwMEyYMW6Kf0/LyD8r0TuyCOPvIPlahCroKhJO6WIk4kyVroFO36HyclgEgue/AZi6ay5LqzKlmc54ogjysS8KkIAjAMI/dWksUlAiKoLXg4vkHcB4a0av3ffDDl+73vKeUwuXhSqIfaugcl9MiTKsFKLrxxz2eolnqGxzILv8rzci8a29/f5uryMvhDBD7sNomqgit9PJjMlwmvy1jEZRlM/bRUsD2Ee3scEwmuwcGYa7RACkakltcsiVECgTB4Q0iPgvoMJp+vzmvDU3Hu8ihqvssb/hxy/J/LyFL7/ZMWMhVI1rCMsN+khycfU+P2yyK25/0wkl19++cZf74hkss/AwOh7SC2CH3YbQjIsV4I8aaVL4vGqquCLvdfn+FcZJou5WsOzYClbyOV83nMavI0aerFQa1XXvSbovSd4JtYKVMGS9J+EFSnPwMqtE5vQjc9acw9KgbuSzX1Hvym/jQnOtWjjt6672bmuvK92WIuXzXsTZl0WVr1yaWEdobQurLYWWhKqWzWRvy5E8MNuwUBmzUqCd8Xga7LbYJe0q+4+q1ky0yKdWSWWFZUV4rQ8gq4N7oUDhFO8144suHrlK19Z8jw1BOV7mjyIlUMIqi1YHudNEBXrNyrEvcbvfXdbYXruEBHyItpdv6XVra6Dg5ekYSFMDiYLYRn/Loscm/vPee1PMTnZVPwOjAt9i7qSu30hgh92CwYOq1ulRJebrGqGeNbBXuPfQh5aH6i/X0QECa5FXMSWFTkNYmNFq/cR2lnFdfdZvIdNcdqwCuv3MOm049TKD4mNyabdE4eHwBvwGl6QxPWOIiksZCIcthWHPMqOJpG9XsjE0XXNfeZ6/YRWFD94Ha9MZY5E+yreD29KXL7eW11rJDwm4c7j6npOX4jgh92ChTQEe173QbHZmryV9PZcAuC/Z1XctLHwjZXGfe9qq3DLLbcU0fE+Eru12moZCBaPhPfRhpCbCOp3aId7hBWEciY7eKruIvRewwrdivg9S1kFkAlpKw5COJlkXRa/jSS3kIxJpIt2ewyJdZO434hg1wT5sggL1qT4rL46hF7JqDj/ZNK4b0Tww27BIBKb5Z7PstKV2tWVqkIiBp11D1rVzkq0tSG4SvCIQ1cLBoIv+ed9VFGtIviW9RP8yRW6Jqg6mRAOXobvLP7Mw5GsbFvKQlbEWfzed5ZT2FFhhc6a2gPLB+zoIRynEm1HY9omNhVs/u0KqcDvU0s0/WuC4JVZpzGr8mkWPMjqRc2acPyukueqvSarxfpGBD/scoibUkwrHbvqnyvKGk0MhM/AVMYpns3F1iVxEQhJ3QynS6BYjKxf78EbWCWkw+NQ8TEpCsIAHnNun5uYC0fYg5mFOVnq571r/N5kJ8a9o6GTdUVJpZAMQZ+FCbJOmu4F3o+KHRPoIvsbTKOutnVOBkGXpykHxOtbNZG/TkTwwy6H6Fp9SgS59POQzKxhnZr4VGa5lYgB68vjPVjBy9ZbE3mfy6Qx6bEIA1g05dySfzwICUMCNq22XsinxpYJm74vQ8Q1ExqSO9EeYR4Ss7Vqyb8MAeWcq3oZqsPU2Lun3GOzPIyhEMEPuxxlivoO1f4582DxtnuSG+ws4EUhLMIqauTbPZDaSGgSeoNfUnCR6p82Vk8LM2nUNgkhkXT12YUjTHaqeYRzpn2eujrb87cqfr+OuGbyOKz8Rapf/Ea1r41D+MykuSq8Pp04/Saz2nPw0IT43Kuzwo99IIIfdjkWVbHOxEQXHUDEuA50A1S9+yIQe20bWHAqOrZt29Y5yYilO7dEsfjuMtjM3mtrQraNcIxVtD47T8UCMKI/rRGXCUB+QzWKycf6g62I368jYuPi9/I0i1jXfkt5A9fFtdRNVXhvVbw/D8EagCuvvHLjr9sj/6OUV+WWJmu8iT6LfgQ/7DIManFQrSpYaipmDOJFIKQ1eatEb5FQEAxQFRhVJLjwXS2qxdYNft6HTTIWweev3RpZnPIK0wTB9/a4zyHuzLuZhlBSndx8X8nEocXvJaX9fhK/PDce36L3gWstT+L6WIfhtauicZ9zWMzVdR5iX/vhm9BNTl1eYh+I4IedDhE0oIQ1hEskLrVNUGqnOyIx567PgohKsBFMTawWxXvXFbQOIQQhk2lUF18jvK56/YpwhAmLpyEXUTtaSu5pbzw5YQhLqSghGnIFtQMo8SPyro/kI++nhi1MbMTf371X33e6ItbKcVnTFtURe7+n7+g6emyemHrcfeN1KmdWXQjluptMhQet6eha/KcVh0mh3j99r8WP4IedCqE2SCRZWUos6HpYIelvLL1FknZE2OvEfBdF7F58Vs8UCVDv1VURQsQlEIVTWOCzxEeIyHeq36P9nQi7kE0b+QOrfW320vYwlAKq1jERCS+I3ddz1UPYw0TU9+Qta5mHNXkfOHxv/YLmha94OxZMWcBmdfKquN8sxhNiE8rrmjiEHYX4/AaarJmUTBZ9JYIfdioGqFp74ZL2YRKwQMlWkCziRawm1S6SostuQkFsWfXq0JWBdsVgDWQVNJKvkqqzwkZa8rLGHb6H7+Pw+aycnVwZa/LgQUx6DvIJqkW8dvL6tK+RCajvm2+oTDK5TX5PcXnf0TVbJInvWpo8Zu2CNQ8emBJf4SH9mLruCaEm7yNH4zXzPNF1J4IfQgtNzHgDLHF12mF4EHErvIm9Kp9lE/R9JoIfQgtWvRi7+DIrcl5MOfQP+RQL/1RLWYy3iFcxFCL4IbTg2lvBqXujGPEim2KH/uD3Fd5TiaWtwuQ+C0Mngh/CBCxAlT21S2Xf47bhdqyoVuVjQpdD6HsztGWJ4IcwBWWQknqqdjRDG2ovmzEhPKfhnmobDeDG6L1F8EOYgkViqnrU/KutZ/WH/mLCVg6r15FE7bRd1sZABD+EDmpHS/1slA/2fbejsULYrb2wQM5aCO01xtAobRoR/BBmYOGWOm0LrWLl9xOCrwGdNtMWUo258iqCH8IcJG21aBhbgm8oEHxN0KyuXbRnz1CJ4IcQwkiI4IcQwkiI4IcQwkiI4IcQwkiI4IcQwkiI4IcQwkiI4IcQwkiI4IcQwkiI4IcQwkiI4IcQwkiI4IcQwkiI4IcQwkiI4IcQwkiI4IcQwkiI4IcQwkiI4IcQwkiI4IcQwkiI4IcQwkiI4IcQwkiI4IcQwkiI4IcQwihomv8H70qEYAnS9WoAAAAASUVORK5CYII=\" width=200/>"
   ]
  },
  {
   "cell_type": "code",
   "execution_count": 41,
   "metadata": {},
   "outputs": [
    {
     "name": "stdout",
     "output_type": "stream",
     "text": [
      "(M, N) is (10, 2): Result is 45.0\n"
     ]
    }
   ],
   "source": [
    "#代码\n",
    "\n",
    "def factorial(n: int) -> int:\n",
    "    result = 1\n",
    "    if n >= 0:\n",
    "        for i in range(n):\n",
    "            result = result * (i + 1)\n",
    "        return result\n",
    "    else:\n",
    "        raise ValueError('Please input integer greater than 0')\n",
    "\n",
    "def C(M: int, N: int) -> int:\n",
    "    if M == N:\n",
    "        return 1\n",
    "    elif M > N:\n",
    "        return factorial(M) / (factorial(N) * factorial(M - N))\n",
    "    else:\n",
    "        raise ValueError(f'M should be greater than or equal to N. But M is {M}, N is {N}.')\n",
    "\n",
    "def main(M, N):\n",
    "    try:\n",
    "        print(f'(M, N) is ({M}, {N}): Result is', C(M, N))\n",
    "    except ValueError as e:\n",
    "        print(e)\n",
    "\n",
    "\n",
    "M = int(input('请输入M'))\n",
    "N = int(input('请输入N'))\n",
    "main(M, N)\n",
    "\n",
    "# t1 = (5, 3)\n",
    "# t2 = (2, 6)\n",
    "# t3 = (3, 3)\n",
    "\n",
    "# for _ in t1, t2, t3:\n",
    "#     test(_)\n"
   ]
  },
  {
   "cell_type": "markdown",
   "metadata": {},
   "source": [
    "### 2 查找特定类型文件文件\n",
    "> 编写函数，实现如下功能：对于给定目录，查找该目录下（包括子目录）中指定后缀(如\".doc\",\".docx\")的文件，将这些文件打印到控制台"
   ]
  },
  {
   "cell_type": "code",
   "execution_count": 44,
   "metadata": {},
   "outputs": [
    {
     "name": "stdout",
     "output_type": "stream",
     "text": [
      "请输入以“.”为起始的后缀名称\n",
      "请输入以“.”为起始的后缀名称\n",
      "请输入正确路径 [Errno 2] No such file or directory: '123'\n"
     ]
    }
   ],
   "source": [
    "#代码\n",
    "\n",
    "from inspect import findsource\n",
    "import os\n",
    "\n",
    "def find_suffix(DIR, *suffix):\n",
    "    dir_list = os.listdir(os.path.join(DIR))\n",
    "    for f in [_ for _ in dir_list if _.endswith(suffix)]:\n",
    "        print(f)\n",
    "\n",
    "\n",
    "DIR = input('请输入目标目录：')\n",
    "suffix = []\n",
    "while True:\n",
    "    ipt = input('请输入后缀，所有后缀输入完毕后输入q开始运行：')\n",
    "    if ipt == 'q':\n",
    "        break\n",
    "    elif not ipt.startswith('.'):\n",
    "        print('请输入以“.”为起始的后缀名称')\n",
    "    else:\n",
    "        suffix.append(ipt)\n",
    "\n",
    "try:\n",
    "    find_suffix(DIR, *suffix)\n",
    "except FileNotFoundError as e:\n",
    "    print('请输入正确路径', e)"
   ]
  },
  {
   "cell_type": "markdown",
   "metadata": {},
   "source": [
    "### 3 文件读写操作\n",
    "> 基于给定代码生成数字文件number.txt\n",
    "> 读出numbres.txt中所有的数据，（1）查找出出现次数最多的50个数，并将这些数写入文件top50.txt；（2）查找出最大的50个数，并将这些书写入max50.txt。\n",
    "\n",
    "```python\n",
    "# 生成number.txt\n",
    "import random\n",
    "with open(\"e:\\\\number.txt\",\"w\",encoding=\"utf-8\") as file:\n",
    "    for _ in range(1000000):\n",
    "        for _ in range(0,random.randint(1,100)):\n",
    "            file.write(str(random.randint(1,10000000))+\",\")\n",
    "        file.write(\"\\n\")\n",
    "```"
   ]
  },
  {
   "cell_type": "code",
   "execution_count": 1,
   "metadata": {},
   "outputs": [],
   "source": [
    "#代码\n",
    "\n",
    "def top50(src_path):\n",
    "    with open(src_path, \"r\", encoding=\"utf-8\", ) as file:\n",
    "        lines = file.readlines()\n",
    "\n",
    "    count = {}\n",
    "\n",
    "    for line in lines:\n",
    "        numbers = line.rstrip('\\n').rstrip(',').split(',')\n",
    "        for number in numbers:\n",
    "            count[number] = count.get(number, 0) + 1\n",
    "\n",
    "    sort = sorted(count.items(), key=lambda item: item[1], reverse=True)\n",
    "    top50 = [_[0] + '\\n' for _ in sort[:50]]\n",
    "\n",
    "    with open('top50.txt', 'w', encoding='utf-8') as fw:\n",
    "        fw.writelines(top50)\n",
    "\n",
    "def max50(src_path):\n",
    "    with open(src_path, \"r\", encoding=\"utf-8\", ) as file:\n",
    "        lines = file.readlines()\n",
    "    \n",
    "    queue = []\n",
    "\n",
    "    for line in lines:\n",
    "        numbers = line.rstrip('\\n').rstrip(',').split(',')\n",
    "        queue += numbers\n",
    "\n",
    "    sort = sorted(queue, reverse=True)\n",
    "    max50 = [_ + '\\n' for _ in sort[:50]]\n",
    "\n",
    "    with open('max50.txt', 'w', encoding='utf-8') as fw:\n",
    "        fw.writelines(max50)\n",
    "\n",
    "\n",
    "DIR = input('请输入读取目录：')\n",
    "top50(DIR)\n",
    "max50(DIR)"
   ]
  },
  {
   "cell_type": "markdown",
   "metadata": {},
   "source": [
    "### Enjoy~"
   ]
  }
 ],
 "metadata": {
  "kernelspec": {
   "display_name": "Python 3.8.5 64-bit ('ipynb')",
   "language": "python",
   "name": "python3"
  },
  "language_info": {
   "codemirror_mode": {
    "name": "ipython",
    "version": 3
   },
   "file_extension": ".py",
   "mimetype": "text/x-python",
   "name": "python",
   "nbconvert_exporter": "python",
   "pygments_lexer": "ipython3",
   "version": "3.8.5"
  },
  "vscode": {
   "interpreter": {
    "hash": "16c62f0b57c25ccdb5e75d553e6e455b6e8d7ce0e8b67437c2fd5ea6c2889b0f"
   }
  }
 },
 "nbformat": 4,
 "nbformat_minor": 4
}
